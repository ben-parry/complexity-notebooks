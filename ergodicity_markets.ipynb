{
 "cells": [
  {
   "cell_type": "markdown",
   "id": "grateful-compilation",
   "metadata": {},
   "source": [
    "Ergodicity & Markets"
   ]
  },
  {
   "cell_type": "code",
   "execution_count": 1,
   "id": "human-contrast",
   "metadata": {},
   "outputs": [],
   "source": [
    "import numpy as np\n",
    "from numpy import random\n",
    "import scipy.stats as stats\n",
    "import matplotlib.pyplot as plt\n",
    "%matplotlib inline"
   ]
  },
  {
   "cell_type": "code",
   "execution_count": 9,
   "id": "rental-sacramento",
   "metadata": {},
   "outputs": [],
   "source": [
    "def bet(x, p, b, a):\n",
    "    outcome = random.rand()\n",
    "    if outcome < p: \n",
    "        return b*x + x\n",
    "    else:\n",
    "        return a*x\n",
    "    \n",
    "def bets_over_time(x, p, b, a, steps):\n",
    "    y_values = []\n",
    "    y_values.append(x)\n",
    "    for step in range(steps):\n",
    "        x = bet(x, p, b, a)\n",
    "        y_values.append(x)\n",
    "    return y_values"
   ]
  },
  {
   "cell_type": "code",
   "execution_count": 17,
   "id": "jewish-leather",
   "metadata": {},
   "outputs": [
    {
     "data": {
      "text/plain": [
       "[<matplotlib.lines.Line2D at 0x7fafd96ecf90>]"
      ]
     },
     "execution_count": 17,
     "metadata": {},
     "output_type": "execute_result"
    },
    {
     "data": {
      "image/png": "[encoded data removed]",
      "text/plain": [
       "<Figure size 432x288 with 1 Axes>"
      ]
     },
     "metadata": {
      "needs_background": "light"
     },
     "output_type": "display_data"
    }
   ],
   "source": [
    "y_values = bets_over_time(100, 0.5, 0.8, 0.5, 1000)\n",
    "plt.plot(y_values)"
   ]
  },
  {
   "cell_type": "code",
   "execution_count": null,
   "id": "imperial-regulation",
   "metadata": {},
   "outputs": [],
   "source": []
  }
 ],
 "metadata": {
  "kernelspec": {
   "display_name": "Python 3",
   "language": "python",
   "name": "python3"
  },
  "language_info": {
   "codemirror_mode": {
    "name": "ipython",
    "version": 3
   },
   "file_extension": ".py",
   "mimetype": "text/x-python",
   "name": "python",
   "nbconvert_exporter": "python",
   "pygments_lexer": "ipython3",
   "version": "3.7.4"
  }
 },
 "nbformat": 4,
 "nbformat_minor": 5
}
